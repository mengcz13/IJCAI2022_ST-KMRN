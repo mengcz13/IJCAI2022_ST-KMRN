{
 "cells": [
  {
   "cell_type": "code",
   "execution_count": 1,
   "id": "posted-generator",
   "metadata": {},
   "outputs": [],
   "source": [
    "%load_ext autoreload\n",
    "%autoreload 2"
   ]
  },
  {
   "cell_type": "code",
   "execution_count": 2,
   "id": "failing-grace",
   "metadata": {},
   "outputs": [],
   "source": [
    "import os\n",
    "import sys\n",
    "sys.path.append('..')\n",
    "import re\n",
    "import numpy as np\n",
    "import pandas as pd\n",
    "import matplotlib.pyplot as plt\n",
    "%matplotlib inline\n",
    "\n",
    "from dataset.nyc_taxi.nyctaxi_dataset import NYCTaxiDataset\n",
    "\n",
    "from metric_utils import *"
   ]
  },
  {
   "cell_type": "code",
   "execution_count": 3,
   "id": "robust-possible",
   "metadata": {},
   "outputs": [],
   "source": [
    "import warnings\n",
    "warnings.filterwarnings('ignore')"
   ]
  },
  {
   "cell_type": "markdown",
   "id": "broad-moscow",
   "metadata": {},
   "source": [
    "# Main Experiments: Fully Observed Input"
   ]
  },
  {
   "cell_type": "markdown",
   "id": "optional-moral",
   "metadata": {},
   "source": [
    "## YellowCab & GreenCab"
   ]
  },
  {
   "cell_type": "code",
   "execution_count": 4,
   "id": "broke-sharp",
   "metadata": {},
   "outputs": [
    {
     "name": "stdout",
     "output_type": "stream",
     "text": [
      "mean: [123.28514811 123.25635562]\n",
      "var: [65351.27791198 58547.75001079]\n",
      "2019-04-27 00:00:00\n",
      "mean: [6.88223632 6.87954762]\n",
      "var: [243.2088257  186.28749241]\n",
      "2019-04-27 00:00:00\n",
      "\\begin{tabular}{cccccccccccccc}\n",
      "\\toprule\n",
      "         &     &      &      HA &                       Static &            GRU &                           Informer &                      Graph WaveNet &          MTGNN &      KoopmanAE &         \\modelshortname &    RelErr &  RelErrGW \\\\\n",
      "Data & Horizon & Metric &         &                              &                &                                    &                                    &                &                &                         &           &           \\\\\n",
      "\\midrule\n",
      "\\multirow{8}{*}{YellowCab} & \\multirow{2}{*}{30min} & MAE &  19.428 &  \\underline{\\textit{12.499}} &  22.690(1.848) &                      20.240(1.153) &                      20.261(0.839) &  22.258(1.167) &  15.451(0.349) &  \\textbf{12.265(0.641)} &   -1.87\\% &  -39.46\\% \\\\\n",
      "         &     & RMSE &  30.036 &  \\underline{\\textit{21.867}} &  32.979(3.089) &                      28.778(1.772) &                      32.418(0.276) &  38.315(1.765) &  24.114(0.646) &  \\textbf{18.056(0.474)} &  -17.43\\% &  -44.30\\% \\\\\n",
      "\\cline{2-13}\n",
      "         & \\multirow{2}{*}{6h} & MAE &  10.709 &               \\textbf{6.950} &  14.754(0.666) &                      14.451(0.619) &                      11.975(0.221) &  12.366(0.495) &  10.309(0.337) &            7.530(0.605) &    8.35\\% &  -37.12\\% \\\\\n",
      "         &     & RMSE &  19.893 &  \\underline{\\textit{14.781}} &  21.990(1.128) &                      23.105(0.675) &                      26.108(0.456) &  28.581(0.793) &  16.922(0.747) &  \\textbf{13.731(0.986)} &   -7.10\\% &  -47.41\\% \\\\\n",
      "\\cline{2-13}\n",
      "         & \\multirow{2}{*}{1d} & MAE &  21.569 &  \\underline{\\textit{13.446}} &  25.571(0.148) &                      21.487(1.835) &                      16.453(0.081) &  18.279(0.627) &  16.706(0.498) &  \\textbf{13.323(0.922)} &   -0.91\\% &  -19.02\\% \\\\\n",
      "         &     & RMSE &  34.675 &  \\underline{\\textit{25.005}} &  38.337(0.520) &                      32.104(2.359) &                      30.157(0.135) &  33.224(0.990) &  27.202(0.650) &  \\textbf{23.067(1.319)} &   -7.75\\% &  -23.51\\% \\\\\n",
      "\\cline{2-13}\n",
      "         & \\multirow{2}{*}{10d} & MAE &  21.934 &  \\underline{\\textit{14.004}} &  25.625(0.188) &                      22.210(2.046) &                      16.889(0.115) &  18.914(0.592) &  16.922(0.680) &  \\textbf{13.631(0.812)} &   -2.66\\% &  -19.29\\% \\\\\n",
      "         &     & RMSE &  35.473 &  \\underline{\\textit{26.324}} &  38.207(0.180) &                      33.484(2.722) &                      30.929(0.257) &  34.017(0.985) &  28.115(0.891) &  \\textbf{24.090(1.054)} &   -8.49\\% &  -22.11\\% \\\\\n",
      "\\cline{1-13}\n",
      "\\cline{2-13}\n",
      "\\multirow{8}{*}{GreenCab} & \\multirow{2}{*}{30min} & MAE &   4.374 &                        1.945 &   3.545(0.193) &                       1.800(0.054) &  \\underline{\\textit{1.785(0.028)}} &   2.262(0.018) &   2.351(0.317) &   \\textbf{1.606(0.045)} &  -10.03\\% &  -10.03\\% \\\\\n",
      "         &     & RMSE &   6.625 &                        2.791 &   5.166(0.315) &  \\underline{\\textit{2.600(0.053)}} &                       2.681(0.027) &   3.334(0.010) &   3.305(0.405) &   \\textbf{2.367(0.047)} &   -8.96\\% &  -11.71\\% \\\\\n",
      "\\cline{2-13}\n",
      "         & \\multirow{2}{*}{6h} & MAE &   3.254 &                        1.582 &   2.334(0.141) &  \\underline{\\textit{1.511(0.066)}} &                       1.537(0.042) &   1.867(0.007) &   1.649(0.043) &   \\textbf{1.302(0.033)} &  -13.83\\% &  -15.29\\% \\\\\n",
      "         &     & RMSE &   5.672 &                        2.289 &   3.519(0.233) &  \\underline{\\textit{2.179(0.080)}} &                       2.433(0.052) &   2.944(0.016) &   2.361(0.087) &   \\textbf{2.039(0.068)} &   -6.42\\% &  -16.19\\% \\\\\n",
      "\\cline{2-13}\n",
      "         & \\multirow{2}{*}{1d} & MAE &   3.742 &                        2.069 &   2.669(0.056) &                       1.845(0.050) &  \\underline{\\textit{1.802(0.010)}} &   2.222(0.021) &   2.793(0.092) &   \\textbf{1.652(0.011)} &   -8.32\\% &   -8.32\\% \\\\\n",
      "         &     & RMSE &   5.668 &                        3.063 &   3.895(0.085) &  \\underline{\\textit{2.733(0.067)}} &                       2.784(0.020) &   3.460(0.015) &   4.116(0.138) &   \\textbf{2.457(0.011)} &  -10.10\\% &  -11.75\\% \\\\\n",
      "\\cline{2-13}\n",
      "         & \\multirow{2}{*}{10d} & MAE &   3.764 &                        2.076 &   2.668(0.056) &                       1.926(0.062) &  \\underline{\\textit{1.801(0.011)}} &   2.222(0.022) &   2.612(0.131) &   \\textbf{1.682(0.004)} &   -6.61\\% &   -6.61\\% \\\\\n",
      "         &     & RMSE &   5.701 &                        3.080 &   3.894(0.082) &                       2.818(0.079) &  \\underline{\\textit{2.787(0.019)}} &   3.462(0.009) &   3.832(0.196) &   \\textbf{2.479(0.017)} &  -11.05\\% &  -11.05\\% \\\\\n",
      "\\bottomrule\n",
      "\\end{tabular}\n",
      "\n"
     ]
    }
   ],
   "source": [
    "nyctaxi_all_results = collect_results(['NYCTaxi', 'NYCTaxiGreen'], [1.0,])\n",
    "modelnames=[\n",
    "                'HA', 'Static', \n",
    "                'GRU', 'Informer_nodt', 'Graph WaveNet', 'MTGNN', 'KoopmanAE',\n",
    "                'Multitask_GWplusCKO_gate_ups_ds_convfusion'\n",
    "            ]\n",
    "df_lat = latex_results_multihorizon_multikr(nyctaxi_all_results, modelnames, datanames=('NYCTaxi', 'NYCTaxiGreen'),\n",
    "                                         reslist=('30min',), metriclist=('rmse', 'mae',), \n",
    "                                 horizon_name_dict={1: '30min', 12: '6h', 48: '1d', 240: '5d', 480: '10d'},\n",
    "                                 model_name_dict={\n",
    "                                     'Informer_nodt': 'Informer',\n",
    "                                     'Multitask_GWplusCKO_gate': '\\modelshortname (no ups/ds)',\n",
    "                                     'Multitask_GWplusCKO_gate_ups_ds_convfusion': '\\modelshortname'\n",
    "                                 },\n",
    "                                         data_name_dict={'NYCTaxi': 'YellowCab', 'NYCTaxiGreen': 'GreenCab'}, drop_obs_ratio=True\n",
    "                                )\n",
    "print(df_lat)"
   ]
  },
  {
   "cell_type": "markdown",
   "id": "cooperative-facing",
   "metadata": {},
   "source": [
    "## Solar Energy"
   ]
  },
  {
   "cell_type": "code",
   "execution_count": 5,
   "id": "cleared-commerce",
   "metadata": {},
   "outputs": [
    {
     "name": "stdout",
     "output_type": "stream",
     "text": [
      "mean: [23.68199604]\n",
      "var: [7941.12710593]\n",
      "2006-10-10 00:00:00\n",
      "\\begin{tabular}{cccccccccccccc}\n",
      "\\toprule\n",
      "             &    &      &                            HA &   Static &              GRU &                             Informer &   Graph WaveNet &            MTGNN &       KoopmanAE &          \\modelshortname &    RelErr &  RelErrGW \\\\\n",
      "Data & Horizon & Metric &                               &          &                  &                                      &                 &                  &                 &                          &           &           \\\\\n",
      "\\midrule\n",
      "\\multirow{8}{*}{Solar Energy} & \\multirow{2}{*}{10min} & MAE &   \\underline{\\textit{53.066}} &   63.137 &    93.171(3.893) &                        68.768(4.067) &  124.946(0.226) &   117.190(5.833) &  151.358(2.996) &   \\textbf{45.365(1.094)} &  -14.51\\% &  -63.69\\% \\\\\n",
      "             &    & RMSE &  \\underline{\\textit{143.272}} &  188.282 &   147.998(4.483) &                       148.671(6.116) &  310.096(0.197) &  296.933(10.536) &  275.953(0.663) &  \\textbf{118.937(1.864)} &  -16.99\\% &  -61.65\\% \\\\\n",
      "\\cline{2-13}\n",
      "             & \\multirow{2}{*}{1h} & MAE &   \\underline{\\textit{62.456}} &   63.787 &   106.078(4.145) &                        62.514(1.172) &  123.028(0.291) &   114.977(5.735) &  149.854(1.725) &   \\textbf{44.470(0.064)} &  -28.80\\% &  -63.85\\% \\\\\n",
      "             &    & RMSE &                       147.648 &  185.672 &   169.405(4.595) &  \\underline{\\textit{140.232(5.675)}} &  301.446(0.299) &  288.898(10.210) &  267.903(0.455) &  \\textbf{121.923(1.033)} &  -13.06\\% &  -59.55\\% \\\\\n",
      "\\cline{2-13}\n",
      "             & \\multirow{2}{*}{6h} & MAE &   \\underline{\\textit{68.717}} &   71.044 &  110.081(12.229) &                        79.137(4.951) &  136.310(0.081) &   129.699(4.795) &  147.291(1.640) &   \\textbf{64.304(1.342)} &   -6.42\\% &  -52.83\\% \\\\\n",
      "             &    & RMSE &  \\underline{\\textit{151.879}} &  179.165 &  195.647(14.791) &                      161.637(11.007) &  291.459(0.295) &   282.570(7.295) &  253.023(0.270) &  \\textbf{140.082(2.049)} &   -7.77\\% &  -51.94\\% \\\\\n",
      "\\cline{2-13}\n",
      "             & \\multirow{2}{*}{3d} & MAE &   \\underline{\\textit{69.401}} &   71.758 &   114.667(9.018) &                        81.456(5.181) &  135.644(0.062) &   130.357(3.472) &  148.614(2.297) &   \\textbf{67.718(1.620)} &   -2.43\\% &  -50.08\\% \\\\\n",
      "             &    & RMSE &  \\underline{\\textit{152.590}} &  179.680 &  201.622(10.462) &                      171.407(10.061) &  290.471(0.186) &   283.506(5.695) &  253.097(0.421) &  \\textbf{148.304(2.279)} &   -2.81\\% &  -48.94\\% \\\\\n",
      "\\bottomrule\n",
      "\\end{tabular}\n",
      "\n"
     ]
    }
   ],
   "source": [
    "solar_energy_all_results = collect_results(['Solar Energy 10min '], [1.0,])\n",
    "modelnames=[\n",
    "                'HA', 'Static', \n",
    "                'GRU', 'Informer', 'Graph WaveNet', 'MTGNN', 'KoopmanAE',\n",
    "                'Multitask_GWplusCKO_gate_ups_ds_convfusion'\n",
    "            ]\n",
    "df_lat = latex_results_multihorizon_multikr(solar_energy_all_results, modelnames, datanames=('Solar Energy 10min ',),\n",
    "                                         reslist=('10min',), metriclist=('rmse', 'mae',), \n",
    "                                 horizon_name_dict={1: '10min', 6: '1h', 36: '6h', 432: '3d'},\n",
    "                                 model_name_dict={\n",
    "                                     'Informer_nodt': 'Informer',\n",
    "                                     'Multitask_GWplusCKO_gate': '\\modelshortname (no ups/ds)',\n",
    "                                     'Multitask_GWplusCKO_gate_ups_ds_convfusion': '\\modelshortname'\n",
    "                                 },\n",
    "                                         data_name_dict={'NYCTaxi': 'YellowCab', 'NYCTaxiGreen': 'GreenCab', 'Solar Energy 10min ': 'Solar Energy'}, drop_obs_ratio=True\n",
    "                                )\n",
    "print(df_lat)"
   ]
  },
  {
   "cell_type": "markdown",
   "id": "polish-favorite",
   "metadata": {},
   "source": [
    "# With Partially Observed Input"
   ]
  },
  {
   "cell_type": "code",
   "execution_count": 8,
   "id": "smaller-swiss",
   "metadata": {},
   "outputs": [
    {
     "name": "stdout",
     "output_type": "stream",
     "text": [
      "mean: [123.28514811 123.25635562]\n",
      "var: [65351.27791198 58547.75001079]\n",
      "2019-04-27 00:00:00\n",
      "mean: [123.28514811 123.25635562]\n",
      "var: [65351.27791198 58547.75001079]\n",
      "2019-04-27 00:00:00\n",
      "mean: [123.28514811 123.25635562]\n",
      "var: [65351.27791198 58547.75001079]\n",
      "2019-04-27 00:00:00\n",
      "mean: [123.28514811 123.25635562]\n",
      "var: [65351.27791198 58547.75001079]\n",
      "2019-04-27 00:00:00\n"
     ]
    },
    {
     "ename": "KeyError",
     "evalue": "'30min'",
     "output_type": "error",
     "traceback": [
      "\u001b[0;31m---------------------------------------------------------------------------\u001b[0m",
      "\u001b[0;31mKeyError\u001b[0m                                  Traceback (most recent call last)",
      "\u001b[0;32m<ipython-input-8-87071dc416a7>\u001b[0m in \u001b[0;36m<module>\u001b[0;34m\u001b[0m\n\u001b[1;32m     14\u001b[0m                                      \u001b[0;34m'Multitask_GWplusCKO_gate_ups_ds_convfusion'\u001b[0m\u001b[0;34m:\u001b[0m \u001b[0;34m'\\modelshortname'\u001b[0m\u001b[0;34m\u001b[0m\u001b[0;34m\u001b[0m\u001b[0m\n\u001b[1;32m     15\u001b[0m                                  },\n\u001b[0;32m---> 16\u001b[0;31m                                          \u001b[0mdata_name_dict\u001b[0m\u001b[0;34m=\u001b[0m\u001b[0;34m{\u001b[0m\u001b[0;34m'NYCTaxi'\u001b[0m\u001b[0;34m:\u001b[0m \u001b[0;34m'YellowCab'\u001b[0m\u001b[0;34m,\u001b[0m \u001b[0;34m'NYCTaxiGreen'\u001b[0m\u001b[0;34m:\u001b[0m \u001b[0;34m'GreenCab'\u001b[0m\u001b[0;34m}\u001b[0m\u001b[0;34m,\u001b[0m \u001b[0mdrop_obs_ratio\u001b[0m\u001b[0;34m=\u001b[0m\u001b[0;32mFalse\u001b[0m\u001b[0;34m,\u001b[0m \u001b[0mhorizon_list\u001b[0m\u001b[0;34m=\u001b[0m\u001b[0;34m[\u001b[0m\u001b[0;36m480\u001b[0m\u001b[0;34m]\u001b[0m\u001b[0;34m,\u001b[0m \u001b[0mdropdata\u001b[0m\u001b[0;34m=\u001b[0m\u001b[0;32mTrue\u001b[0m\u001b[0;34m,\u001b[0m \u001b[0mdrophorizon\u001b[0m\u001b[0;34m=\u001b[0m\u001b[0;32mTrue\u001b[0m\u001b[0;34m\u001b[0m\u001b[0;34m\u001b[0m\u001b[0m\n\u001b[0m\u001b[1;32m     17\u001b[0m                                 ))\n",
      "\u001b[0;32m~/workspace/multires_st/results/metric_utils.py\u001b[0m in \u001b[0;36mlatex_results_multihorizon_multikr\u001b[0;34m(all_results, modelnames, datanames, reslist, metriclist, num_decimals, horizon_name_dict, model_name_dict, data_name_dict, drop_obs_ratio, horizon_list, dropdata, drophorizon)\u001b[0m\n\u001b[1;32m   1338\u001b[0m             \u001b[0;32mfor\u001b[0m \u001b[0mresolution\u001b[0m \u001b[0;32min\u001b[0m \u001b[0mreslist\u001b[0m\u001b[0;34m:\u001b[0m\u001b[0;34m\u001b[0m\u001b[0;34m\u001b[0m\u001b[0m\n\u001b[1;32m   1339\u001b[0m                 \u001b[0;32mfor\u001b[0m \u001b[0mmetric\u001b[0m \u001b[0;32min\u001b[0m \u001b[0mmetriclist\u001b[0m\u001b[0;34m:\u001b[0m\u001b[0;34m\u001b[0m\u001b[0;34m\u001b[0m\u001b[0m\n\u001b[0;32m-> 1340\u001b[0;31m                     \u001b[0mval\u001b[0m \u001b[0;34m=\u001b[0m \u001b[0mresdict\u001b[0m\u001b[0;34m[\u001b[0m\u001b[0mresolution\u001b[0m\u001b[0;34m]\u001b[0m\u001b[0;34m[\u001b[0m\u001b[0mmetric\u001b[0m\u001b[0;34m]\u001b[0m\u001b[0;34m\u001b[0m\u001b[0;34m\u001b[0m\u001b[0m\n\u001b[0m\u001b[1;32m   1341\u001b[0m                     \u001b[0;32mif\u001b[0m \u001b[0mval\u001b[0m\u001b[0;34m[\u001b[0m\u001b[0;36m1\u001b[0m\u001b[0;34m]\u001b[0m \u001b[0;34m==\u001b[0m \u001b[0;36m0\u001b[0m\u001b[0;34m:\u001b[0m\u001b[0;34m\u001b[0m\u001b[0;34m\u001b[0m\u001b[0m\n\u001b[1;32m   1342\u001b[0m                         \u001b[0mval_str\u001b[0m \u001b[0;34m=\u001b[0m \u001b[0;34m'{:.0{num_decimals}f}'\u001b[0m\u001b[0;34m.\u001b[0m\u001b[0mformat\u001b[0m\u001b[0;34m(\u001b[0m\u001b[0mval\u001b[0m\u001b[0;34m[\u001b[0m\u001b[0;36m0\u001b[0m\u001b[0;34m]\u001b[0m\u001b[0;34m,\u001b[0m \u001b[0mnum_decimals\u001b[0m\u001b[0;34m=\u001b[0m\u001b[0mnum_decimals\u001b[0m\u001b[0;34m)\u001b[0m\u001b[0;34m\u001b[0m\u001b[0;34m\u001b[0m\u001b[0m\n",
      "\u001b[0;31mKeyError\u001b[0m: '30min'"
     ]
    }
   ],
   "source": [
    "nyctaxi_partial_results = collect_results(['NYCTaxi',], [0.8,0.6,0.4,0.2])\n",
    "modelnames=[\n",
    "                'HA', 'Static', \n",
    "#                 'GRU',\n",
    "    'Informer_nodt', 'Graph WaveNet', 'MTGNN', 'KoopmanAE',\n",
    "                'Multitask_GWplusCKO_gate_ups_ds_convfusion'\n",
    "            ]\n",
    "print(latex_results_multihorizon_multikr(nyctaxi_partial_results, modelnames, datanames=('NYCTaxi',),\n",
    "                                         reslist=('30min',), metriclist=('rmse', 'mae',), \n",
    "                                 horizon_name_dict={1: '30min', 12: '6h', 48: '1d', 240: '5d', 480: '10d'},\n",
    "                                 model_name_dict={\n",
    "                                     'Informer_nodt': 'Informer',\n",
    "                                     'Multitask_GWplusCKO_gate': '\\modelshortname (no ups/ds)',\n",
    "                                     'Multitask_GWplusCKO_gate_ups_ds_convfusion': '\\modelshortname'\n",
    "                                 },\n",
    "                                         data_name_dict={'NYCTaxi': 'YellowCab', 'NYCTaxiGreen': 'GreenCab'}, drop_obs_ratio=False, horizon_list=[480], dropdata=True, drophorizon=True\n",
    "                                ))"
   ]
  },
  {
   "cell_type": "code",
   "execution_count": 10,
   "id": "infectious-quarter",
   "metadata": {},
   "outputs": [
    {
     "name": "stdout",
     "output_type": "stream",
     "text": [
      "\\begin{tabular}{ccccccccccc}\n",
      "\\toprule\n",
      "    &      &      HA &                       Static &       Informer &                       Graph WaveNet &          MTGNN &                           KoopmanAE &         \\modelshortname &    RelErr &  RelErrGW \\\\\n",
      "Obs Ratio & Metric &         &                              &                &                                     &                &                                     &                         &           &           \\\\\n",
      "\\midrule\n",
      "\\multirow{2}{*}{0.8} & MAE &  21.952 &  \\underline{\\textit{14.206}} &  19.042(0.982) &                       16.528(0.291) &  18.426(0.878) &                       18.434(1.573) &  \\textbf{12.560(0.655)} &  -11.59\\% &  -24.01\\% \\\\\n",
      "    & RMSE &  35.522 &  \\underline{\\textit{26.661}} &  29.209(1.293) &                       31.099(0.435) &  32.725(2.018) &                       29.794(2.198) &  \\textbf{22.579(0.712)} &  -15.31\\% &  -27.40\\% \\\\\n",
      "\\cline{1-11}\n",
      "\\multirow{2}{*}{0.6} & MAE &  21.971 &  \\underline{\\textit{15.768}} &  23.827(1.931) &                       17.081(0.301) &  19.414(0.399) &                       19.896(1.473) &  \\textbf{11.664(0.356)} &  -26.03\\% &  -31.71\\% \\\\\n",
      "    & RMSE &  35.579 &  \\underline{\\textit{29.726}} &  35.346(2.502) &                       31.006(0.386) &  34.883(0.713) &                       31.579(1.939) &  \\textbf{21.458(0.575)} &  -27.81\\% &  -30.79\\% \\\\\n",
      "\\cline{1-11}\n",
      "\\multirow{2}{*}{0.4} & MAE &  21.991 &                       22.490 &  22.898(0.346) &  \\underline{\\textit{16.745(0.212)}} &  19.810(0.087) &                       18.962(2.081) &  \\textbf{11.376(0.276)} &  -32.06\\% &  -32.06\\% \\\\\n",
      "    & RMSE &  35.622 &                       40.694 &  34.309(0.499) &                       30.765(0.349) &  35.489(0.113) &  \\underline{\\textit{30.089(2.995)}} &  \\textbf{21.166(0.449)} &  -29.66\\% &  -31.20\\% \\\\\n",
      "\\cline{1-11}\n",
      "\\multirow{2}{*}{0.2} & MAE &  22.077 &                       41.185 &  23.302(1.528) &  \\underline{\\textit{16.748(0.327)}} &  18.948(0.105) &                       19.068(0.581) &  \\textbf{11.764(0.309)} &  -29.76\\% &  -29.76\\% \\\\\n",
      "    & RMSE &  35.822 &                       61.801 &  34.660(1.960) &                       30.716(0.161) &  33.464(0.661) &  \\underline{\\textit{30.657(0.773)}} &  \\textbf{21.636(0.477)} &  -29.43\\% &  -29.56\\% \\\\\n",
      "\\bottomrule\n",
      "\\end{tabular}\n",
      "\n"
     ]
    }
   ],
   "source": [
    "print(latex_results_multihorizon_multikr(nyctaxi_partial_results, modelnames, datanames=('NYCTaxi',),\n",
    "                                         reslist=('30min',), metriclist=('rmse', 'mae',), \n",
    "                                 horizon_name_dict={1: '30min', 12: '6h', 48: '1d', 240: '5d', 480: '10d'},\n",
    "                                 model_name_dict={\n",
    "                                     'Informer_nodt': 'Informer',\n",
    "                                     'Multitask_GWplusCKO_gate': '\\modelshortname (no ups/ds)',\n",
    "                                     'Multitask_GWplusCKO_gate_ups_ds_convfusion': '\\modelshortname'\n",
    "                                 },\n",
    "                                         data_name_dict={'NYCTaxi': 'YellowCab', 'NYCTaxiGreen': 'GreenCab'}, drop_obs_ratio=False, horizon_list=[480], dropdata=True, drophorizon=True\n",
    "                                ))"
   ]
  },
  {
   "cell_type": "markdown",
   "id": "based-workstation",
   "metadata": {},
   "source": [
    "# Ablation Study"
   ]
  },
  {
   "cell_type": "code",
   "execution_count": null,
   "id": "burning-fellow",
   "metadata": {},
   "outputs": [],
   "source": [
    "modelnames=[\n",
    "    'Multitask_nosa',\n",
    "    'Multitask_ds_ups_convfusion',\n",
    "    'Multitask_GWplusCKO_gate',\n",
    "    'Multitask_GWplusCKO_gate_ups_ds_convfusion'\n",
    "]\n",
    "all_results_sn = parse_model_results(\n",
    "    dataname='NYCTaxi',\n",
    "    modelnames=modelnames,\n",
    "    horizons=[1, 12, 48, 480],\n",
    "    res_list=('30min',),\n",
    "    threshold=1e-6,\n",
    "    corresponding=True,\n",
    "    target_node_res=0\n",
    ")\n",
    "pd.options.display.max_colwidth = 100\n",
    "print(latex_results_multihorizon(all_results_sn, modelnames, reslist=('30min',), metriclist=('mae', 'rmse',), \n",
    "                                 horizon_name_dict={1: '30min', 12: '6h', 48: '1d', 240: '5d', 480: '10d'},\n",
    "                                 model_name_dict={\n",
    "                                        'Multitask_ds_ups_convfusion': 'w/o Koopman',\n",
    "                                        'Multitask_GWplusCKO_gate': 'w/o ups/ds',\n",
    "                                        'Multitask_GWplusCKO_gate_ups_ds_convfusion': '\\modelshortname',\n",
    "                                        'Multitask_nosa': 'w/o Self-Attn'\n",
    "                                 }, with_relative=True\n",
    "                                ))"
   ]
  },
  {
   "cell_type": "code",
   "execution_count": null,
   "id": "orange-terrace",
   "metadata": {},
   "outputs": [],
   "source": [
    "modelnames=[\n",
    "    'Multitask_nosa',\n",
    "    'Multitask_ds_ups_convfusion',\n",
    "    'Multitask_GWplusCKO_gate',\n",
    "    'Multitask_GWplusCKO_gate_ups_ds_convfusion'\n",
    "]\n",
    "all_results_sn = parse_model_results(\n",
    "    dataname='NYCTaxi',\n",
    "    modelnames=modelnames,\n",
    "    horizons=[1, 12, 48, 480],\n",
    "    res_list=('30min',),\n",
    "    threshold=1e-6,\n",
    "    corresponding=True,\n",
    "    target_node_res=0\n",
    ")\n",
    "pd.options.display.max_colwidth = 100\n",
    "print(latex_results_multihorizon(all_results_sn, modelnames, reslist=('30min',), metriclist=('mae', 'rmse',), \n",
    "                                 horizon_name_dict={1: '30min', 12: '6h', 48: '1d', 240: '5d', 480: '10d'},\n",
    "                                 model_name_dict={\n",
    "                                        'Multitask_ds_ups_convfusion': 'w/o Koopman',\n",
    "                                        'Multitask_GWplusCKO_gate': 'w/o ups/ds',\n",
    "                                        'Multitask_GWplusCKO_gate_ups_ds_convfusion': '\\modelshortname',\n",
    "                                        'Multitask_nosa': 'w/o Self-Attn'\n",
    "                                 }, with_relative=True\n",
    "                                ))"
   ]
  },
  {
   "cell_type": "markdown",
   "id": "hollywood-holly",
   "metadata": {},
   "source": [
    "# Additional Results for Rebuttal"
   ]
  },
  {
   "cell_type": "markdown",
   "id": "swiss-magic",
   "metadata": {},
   "source": [
    "## With Partially Observed Input (NYCTaxiGreen and Solar Energy 10min)"
   ]
  },
  {
   "cell_type": "code",
   "execution_count": 11,
   "id": "broke-schedule",
   "metadata": {},
   "outputs": [
    {
     "name": "stdout",
     "output_type": "stream",
     "text": [
      "mean: [6.88223632 6.87954762]\n",
      "var: [243.2088257  186.28749241]\n",
      "2019-04-27 00:00:00\n",
      "mean: [6.88223632 6.87954762]\n",
      "var: [243.2088257  186.28749241]\n",
      "2019-04-27 00:00:00\n",
      "mean: [6.88223632 6.87954762]\n",
      "var: [243.2088257  186.28749241]\n",
      "2019-04-27 00:00:00\n",
      "mean: [6.88223632 6.87954762]\n",
      "var: [243.2088257  186.28749241]\n",
      "2019-04-27 00:00:00\n",
      "\\begin{tabular}{ccccccccccccc}\n",
      "\\toprule\n",
      "    &      &     HA & Static &           GRU &      Informer &                      Graph WaveNet &         MTGNN &     KoopmanAE &        \\modelshortname &    RelErr &  RelErrGW \\\\\n",
      "Obs Ratio & Metric &        &        &               &               &                                    &               &               &                        &           &           \\\\\n",
      "\\midrule\n",
      "\\multirow{2}{*}{0.8} & MAE &  3.765 &  2.084 &  2.666(0.044) &  1.962(0.069) &  \\underline{\\textit{1.770(0.007)}} &  2.086(0.111) &  2.782(0.553) &  \\textbf{1.733(0.021)} &   -2.09\\% &   -2.09\\% \\\\\n",
      "    & RMSE &  5.703 &  3.092 &  3.898(0.075) &  2.885(0.097) &  \\underline{\\textit{2.752(0.004)}} &  3.238(0.153) &  4.006(0.721) &  \\textbf{2.512(0.028)} &   -8.72\\% &   -8.72\\% \\\\\n",
      "\\cline{1-12}\n",
      "\\multirow{2}{*}{0.6} & MAE &  3.767 &  2.144 &  2.665(0.039) &  2.033(0.067) &  \\underline{\\textit{1.790(0.028)}} &  2.214(0.085) &  2.942(0.436) &  \\textbf{1.724(0.040)} &   -3.69\\% &   -3.69\\% \\\\\n",
      "    & RMSE &  5.709 &  3.170 &  3.892(0.069) &  2.952(0.081) &  \\underline{\\textit{2.781(0.053)}} &  3.460(0.056) &  4.235(0.503) &  \\textbf{2.526(0.025)} &   -9.17\\% &   -9.17\\% \\\\\n",
      "\\cline{1-12}\n",
      "\\multirow{2}{*}{0.4} & MAE &  3.771 &  2.397 &  2.673(0.026) &  2.032(0.020) &  \\underline{\\textit{1.801(0.016)}} &  2.209(0.039) &  2.969(0.446) &  \\textbf{1.676(0.034)} &   -6.94\\% &   -6.94\\% \\\\\n",
      "    & RMSE &  5.727 &  3.472 &  3.899(0.051) &  2.991(0.068) &  \\underline{\\textit{2.792(0.012)}} &  3.434(0.035) &  4.231(0.503) &  \\textbf{2.474(0.040)} &  -11.39\\% &  -11.39\\% \\\\\n",
      "\\cline{1-12}\n",
      "\\multirow{2}{*}{0.2} & MAE &  3.787 &  3.094 &  2.669(0.050) &  2.079(0.054) &  \\underline{\\textit{1.825(0.014)}} &  2.225(0.007) &  2.953(0.497) &  \\textbf{1.681(0.044)} &   -7.89\\% &   -7.89\\% \\\\\n",
      "    & RMSE &  5.777 &  4.181 &  3.906(0.077) &  3.001(0.069) &  \\underline{\\textit{2.838(0.022)}} &  3.498(0.066) &  4.255(0.586) &  \\textbf{2.465(0.038)} &  -13.14\\% &  -13.14\\% \\\\\n",
      "\\bottomrule\n",
      "\\end{tabular}\n",
      "\n"
     ]
    }
   ],
   "source": [
    "nyctaxi_partial_results = collect_results(['NYCTaxiGreen',], [0.8, 0.6, 0.4, 0.2])\n",
    "modelnames=[\n",
    "                'HA', 'Static', \n",
    "                'GRU', 'Informer_nodt', 'Graph WaveNet', 'MTGNN', 'KoopmanAE',\n",
    "                'Multitask_GWplusCKO_gate_ups_ds_convfusion'\n",
    "            ]\n",
    "print(latex_results_multihorizon_multikr(nyctaxi_partial_results, modelnames, datanames=('NYCTaxiGreen',),\n",
    "                                         reslist=('30min',), metriclist=('rmse', 'mae',), \n",
    "                                 horizon_name_dict={1: '30min', 12: '6h', 48: '1d', 240: '5d', 480: '10d'},\n",
    "                                 model_name_dict={\n",
    "                                     'Informer_nodt': 'Informer',\n",
    "                                     'Multitask_GWplusCKO_gate': '\\modelshortname (no ups/ds)',\n",
    "                                     'Multitask_GWplusCKO_gate_ups_ds_convfusion': '\\modelshortname'\n",
    "                                 },\n",
    "                                         data_name_dict={'NYCTaxi': 'YellowCab', 'NYCTaxiGreen': 'GreenCab'}, drop_obs_ratio=False, horizon_list=[480], dropdata=True, drophorizon=True\n",
    "                                ))"
   ]
  },
  {
   "cell_type": "code",
   "execution_count": 12,
   "id": "cognitive-agenda",
   "metadata": {},
   "outputs": [
    {
     "name": "stdout",
     "output_type": "stream",
     "text": [
      "mean: [23.68199604]\n",
      "var: [7941.12710593]\n",
      "2006-10-10 00:00:00\n",
      "mean: [23.68199604]\n",
      "var: [7941.12710593]\n",
      "2006-10-10 00:00:00\n",
      "mean: [23.68199604]\n",
      "var: [7941.12710593]\n",
      "2006-10-10 00:00:00\n",
      "mean: [23.68199604]\n",
      "var: [7941.12710593]\n",
      "2006-10-10 00:00:00\n",
      "\\begin{tabular}{ccccccccccccc}\n",
      "\\toprule\n",
      "    &      &       HA &   Static &              GRU &                             Informer &   Graph WaveNet &                                 MTGNN &       KoopmanAE &          \\modelshortname &    RelErr &  RelErrGW \\\\\n",
      "Obs Ratio & Metric &          &          &                  &                                      &                 &                                       &                 &                          &           &           \\\\\n",
      "\\midrule\n",
      "\\multirow{2}{*}{0.8} & MAE &  200.729 &  261.134 &   118.284(8.741) &   \\underline{\\textit{91.457(2.998)}} &  135.627(0.021) &                        122.947(8.833) &  147.520(0.747) &   \\textbf{68.340(1.260)} &  -25.28\\% &  -49.61\\% \\\\\n",
      "    & RMSE &  255.245 &  409.705 &  204.170(11.301) &  \\underline{\\textit{186.467(7.166)}} &  290.694(0.058) &                       268.167(16.662) &  252.822(0.291) &  \\textbf{148.031(3.985)} &  -20.61\\% &  -49.08\\% \\\\\n",
      "\\cline{1-12}\n",
      "\\multirow{2}{*}{0.6} & MAE &  200.729 &  261.134 &  118.491(12.779) &                        90.766(0.964) &  135.682(0.074) &    \\underline{\\textit{79.910(5.316)}} &  151.975(7.275) &   \\textbf{67.929(2.103)} &  -14.99\\% &  -49.94\\% \\\\\n",
      "    & RMSE &  255.245 &  409.705 &  206.044(14.801) &                       181.990(3.823) &  290.570(0.130) &  \\underline{\\textit{167.590(19.655)}} &  253.887(1.826) &  \\textbf{145.558(4.004)} &  -13.15\\% &  -49.91\\% \\\\\n",
      "\\cline{1-12}\n",
      "\\multirow{2}{*}{0.4} & MAE &  200.729 &  261.134 &   113.916(8.686) &   \\underline{\\textit{86.670(5.272)}} &  135.662(0.051) &                       106.078(25.320) &  147.808(0.583) &   \\textbf{68.102(1.781)} &  -21.42\\% &  -49.80\\% \\\\\n",
      "    & RMSE &  255.245 &  409.705 &  200.380(11.040) &  \\underline{\\textit{177.433(8.053)}} &  290.606(0.090) &                       225.654(62.337) &  252.894(0.232) &  \\textbf{149.006(2.817)} &  -16.02\\% &  -48.73\\% \\\\\n",
      "\\cline{1-12}\n",
      "\\multirow{2}{*}{0.2} & MAE &  200.729 &  261.134 &   111.848(5.956) &   \\underline{\\textit{97.797(7.158)}} &  135.652(0.033) &                       107.208(21.361) &  146.928(1.750) &   \\textbf{72.319(2.834)} &  -26.05\\% &  -46.69\\% \\\\\n",
      "    & RMSE &  255.245 &  409.705 &   192.089(5.243) &  \\underline{\\textit{188.798(5.425)}} &  290.499(0.136) &                       233.500(45.196) &  252.731(0.460) &  \\textbf{157.729(5.618)} &  -16.46\\% &  -45.70\\% \\\\\n",
      "\\bottomrule\n",
      "\\end{tabular}\n",
      "\n"
     ]
    }
   ],
   "source": [
    "solar_energy_all_results = collect_results(['Solar Energy 10min '], [0.8, 0.6, 0.4, 0.2,])\n",
    "modelnames=[\n",
    "                'HA', 'Static', \n",
    "                'GRU', 'Informer', 'Graph WaveNet', 'MTGNN', 'KoopmanAE',\n",
    "                'Multitask_GWplusCKO_gate_ups_ds_convfusion'\n",
    "            ]\n",
    "df_lat = latex_results_multihorizon_multikr(solar_energy_all_results, modelnames, datanames=('Solar Energy 10min ',),\n",
    "                                         reslist=('10min',), metriclist=('rmse', 'mae',), \n",
    "                                 horizon_name_dict={1: '10min', 6: '1h', 36: '6h', 432: '3d'},\n",
    "                                 model_name_dict={\n",
    "                                     'Informer_nodt': 'Informer',\n",
    "                                     'Multitask_GWplusCKO_gate': '\\modelshortname (no ups/ds)',\n",
    "                                     'Multitask_GWplusCKO_gate_ups_ds_convfusion': '\\modelshortname'\n",
    "                                 },\n",
    "                                         data_name_dict={'NYCTaxi': 'YellowCab', 'NYCTaxiGreen': 'GreenCab', 'Solar Energy 10min ': 'Solar Energy'}, drop_obs_ratio=False, horizon_list=[432], dropdata=True, drophorizon=True\n",
    "                                )\n",
    "print(df_lat)"
   ]
  },
  {
   "cell_type": "code",
   "execution_count": null,
   "id": "offensive-parish",
   "metadata": {},
   "outputs": [],
   "source": [
    "nyctaxi_all_results = collect_results(['NYCTaxi', 'NYCTaxiGreen'], [1.0,])\n",
    "modelnames=[\n",
    "                'HA', 'Static', \n",
    "                'GRU', 'Informer_nodt', 'Graph WaveNet', 'MTGNN', 'KoopmanAE',\n",
    "                'Multitask_GWplusCKO_gate_ups_ds_convfusion'\n",
    "            ]\n",
    "df_lat = latex_results_multihorizon_multikr(nyctaxi_all_results, modelnames, datanames=('NYCTaxi', 'NYCTaxiGreen'),\n",
    "                                         reslist=('30min',), metriclist=('rmse', 'mae',), \n",
    "                                 horizon_name_dict={1: '30min', 12: '6h', 48: '1d', 240: '5d', 480: '10d'},\n",
    "                                 model_name_dict={\n",
    "                                     'Informer_nodt': 'Informer',\n",
    "                                     'Multitask_GWplusCKO_gate': '\\modelshortname (no ups/ds)',\n",
    "                                     'Multitask_GWplusCKO_gate_ups_ds_convfusion': '\\modelshortname'\n",
    "                                 },\n",
    "                                         data_name_dict={'NYCTaxi': 'YellowCab', 'NYCTaxiGreen': 'GreenCab'}, drop_obs_ratio=True\n",
    "                                )\n",
    "print(df_lat)"
   ]
  },
  {
   "cell_type": "code",
   "execution_count": null,
   "id": "fitting-joining",
   "metadata": {},
   "outputs": [],
   "source": [
    "solar_energy_all_results = collect_results(['Solar Energy 10min '], [1.0,])\n",
    "modelnames=[\n",
    "                'HA', 'Static', \n",
    "                'GRU', 'Informer', 'Graph WaveNet', 'MTGNN', 'KoopmanAE',\n",
    "                'Multitask_GWplusCKO_gate_ups_ds_convfusion'\n",
    "            ]\n",
    "df_lat = latex_results_multihorizon_multikr(solar_energy_all_results, modelnames, datanames=('Solar Energy 10min ',),\n",
    "                                         reslist=('10min',), metriclist=('rmse', 'mae',), \n",
    "                                 horizon_name_dict={1: '10min', 6: '1h', 36: '6h', 432: '3d'},\n",
    "                                 model_name_dict={\n",
    "                                     'Informer_nodt': 'Informer',\n",
    "                                     'Multitask_GWplusCKO_gate': '\\modelshortname (no ups/ds)',\n",
    "                                     'Multitask_GWplusCKO_gate_ups_ds_convfusion': '\\modelshortname'\n",
    "                                 },\n",
    "                                         data_name_dict={'NYCTaxi': 'YellowCab', 'NYCTaxiGreen': 'GreenCab', 'Solar Energy 10min ': 'Solar Energy'}, drop_obs_ratio=True\n",
    "                                )\n",
    "print(df_lat)"
   ]
  }
 ],
 "metadata": {
  "kernelspec": {
   "display_name": "Python 3",
   "language": "python",
   "name": "python3"
  },
  "language_info": {
   "codemirror_mode": {
    "name": "ipython",
    "version": 3
   },
   "file_extension": ".py",
   "mimetype": "text/x-python",
   "name": "python",
   "nbconvert_exporter": "python",
   "pygments_lexer": "ipython3",
   "version": "3.7.7"
  }
 },
 "nbformat": 4,
 "nbformat_minor": 5
}
